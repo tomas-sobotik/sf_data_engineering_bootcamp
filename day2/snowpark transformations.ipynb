{
 "cells": [
  {
   "cell_type": "code",
   "execution_count": 1,
   "metadata": {},
   "outputs": [
    {
     "name": "stdout",
     "output_type": "stream",
     "text": [
      "[Row(CURRENT_WAREHOUSE()='COMPUTE_WH', CURRENT_DATABASE()='DATA_ENGINEERING', CURRENT_SCHEMA()='PUBLIC')]\n"
     ]
    }
   ],
   "source": [
    "#connection to Snowflake account\n",
    "from snowflake.snowpark import Session\n",
    "\n",
    "connection_parameters = {\n",
    "    \"account\": \"<your account>\",\n",
    "    \"user\": \"<your username>\",\n",
    "    \"password\": \"<your password>\",\n",
    "   \"role\": \"SYSADMIN\",  # optional\n",
    "   \"warehouse\": \"COMPUTE_WH\",  # optional\n",
    "    \"database\": \"DATA_ENGINEERING\",  # optional\n",
    "    \"schema\": \"PUBLIC\",  # optional\n",
    "} \n",
    "\n",
    "new_session = Session.builder.configs(connection_parameters).create()  \n",
    "\n",
    "#verify the connection\n",
    "print(new_session.sql(\"select current_warehouse(), current_database(), current_schema()\").collect()) \n",
    "\n"
   ]
  },
  {
   "cell_type": "code",
   "execution_count": 8,
   "metadata": {},
   "outputs": [
    {
     "name": "stdout",
     "output_type": "stream",
     "text": [
      "---------------------------------------------------------------------------------------------------------------------------------------------------------------------------------------------------------------------------------------------------------------------------------------------------------------------\n",
      "|\"ID\"                 |\"DATE\"                     |\"USERNAME\"  |\"TWEET\"                                             |\"REPLYCOUNT\"  |\"RETWEETCOUNT\"  |\"LIKECOUNT\"  |\"QUOTECOUNT\"  |\"ONLYDATE\"  |\"ONLYHOUR\"  |\"ONLYMIN\"  |\"PROCESSED_TWEET\"                                   |\"SENTIMENT_LABEL\"  |\"SENTIMENT_SCORE\"  |\n",
      "---------------------------------------------------------------------------------------------------------------------------------------------------------------------------------------------------------------------------------------------------------------------------------------------------------------------\n",
      "|1638329623946878976  |2023-03-21 23:59:55+00:00  |lqgds36373  |ChatGPT is another woke machine.                    |4             |4               |32           |0             |2023-03-21  |23          |59         |chatgpt is another woke machine.                    |negative           |0.8628             |\n",
      "|1638329621581275136  |2023-03-21 23:59:55+00:00  |yxwec12342  |of the Atlantic, or only near the Atla #推特账号 mo...  |0             |0               |0            |0             |2023-03-21  |23          |59         |of the atlantic, or only near the atla more to ...  |neutral            |0.8373             |\n",
      "|1638329600471171074  |2023-03-21 23:59:50+00:00  |cwsea23772  | This thread is saved to your Notion database.      |0             |0               |0            |0             |2023-03-21  |23          |59         |this thread is saved to your notion database. t...  |neutral            |0.8854             |\n",
      "|                     |                           |            |                                                    |              |                |             |              |            |            |           |                                                    |                   |                   |\n",
      "|                     |                           |            |Tags: [Chatgpt]                                     |              |                |             |              |            |            |           |                                                    |                   |                   |\n",
      "|1638329587133194240  |2023-03-21 23:59:46+00:00  |jerje51666  |Prompt AI – ChatGPT #0018                           |1             |0               |0            |0             |2023-03-21  |23          |59         |prompt ai – chatgpt                                 |neutral            |0.8958             |\n",
      "|1638329567759802368  |2023-03-21 23:59:42+00:00  |wwxly15746  |Just had some interesting conversations with Go...  |1             |0               |0            |0             |2023-03-21  |23          |59         |just had some interesting conversations with go...  |positive           |0.9558             |\n",
      "|1638329564312264704  |2023-03-21 23:59:41+00:00  |xfcfc69355  | Copilot has actually been useful for me though...  |0             |0               |2            |0             |2023-03-21  |23          |59         |copilot has actually been useful for me though,...  |positive           |0.6596             |\n",
      "|1638329556074475521  |2023-03-21 23:59:39+00:00  |cjxpg99081  |i had chatgpt analyze my ocs after askin a bunc...  |2             |0               |0            |0             |2023-03-21  |23          |59         |i had chatgpt analyze my ocs after askin a bunc...  |negative           |0.4323             |\n",
      "|1638329552861556740  |2023-03-21 23:59:38+00:00  |kkcju69991  | You are a smart guy Mark.  You should be able ...  |0             |0               |0            |0             |2023-03-21  |23          |59         |you are a smart guy mark. you should be able to...  |negative           |0.4678             |\n",
      "|1638329524231233537  |2023-03-21 23:59:31+00:00  |qpbce71884  |  I was just going to say ask ChatGPT               |0             |0               |1            |0             |2023-03-21  |23          |59         |i was just going to say ask chatgpt                 |neutral            |0.7714             |\n",
      "|1638329494871355393  |2023-03-21 23:59:24+00:00  |vqphq79129  |Browsing through the ChatGPT Subreddit is curre...  |3             |1               |10           |1             |2023-03-21  |23          |59         |browsing through the chatgpt subreddit is curre...  |positive           |0.9063             |\n",
      "---------------------------------------------------------------------------------------------------------------------------------------------------------------------------------------------------------------------------------------------------------------------------------------------------------------------\n",
      "\n"
     ]
    }
   ],
   "source": [
    "#working with data frames - create a dataFrame which holds our TRIPS table\n",
    "df_tweets = new_session.table(\"gpt_tweets\")\n",
    "\n",
    "#showing fist 10 rows\n",
    "df_tweets.show()"
   ]
  },
  {
   "cell_type": "code",
   "execution_count": 3,
   "metadata": {},
   "outputs": [
    {
     "name": "stdout",
     "output_type": "stream",
     "text": [
      "--------------\n",
      "|\"USERNAME\"  |\n",
      "--------------\n",
      "|lqgds36373  |\n",
      "|yxwec12342  |\n",
      "|cwsea23772  |\n",
      "|jerje51666  |\n",
      "|wwxly15746  |\n",
      "|xfcfc69355  |\n",
      "|cjxpg99081  |\n",
      "|qpbce71884  |\n",
      "|vqphq79129  |\n",
      "|ilsfk08081  |\n",
      "--------------\n",
      "\n"
     ]
    }
   ],
   "source": [
    "#create dataframe from SQL query\n",
    "df_sql = new_session.sql(\"select distinct username from gpt_tweets \")\n",
    "df_sql.show()"
   ]
  },
  {
   "cell_type": "code",
   "execution_count": 4,
   "metadata": {},
   "outputs": [
    {
     "name": "stdout",
     "output_type": "stream",
     "text": [
      "----------------------------------------------------------------------------------------------------------------------------------------------------------------------------------------------------------------------------------------------------------------------------------\n",
      "|\"ID\"                 |\"DATE\"                     |\"USERNAME\"  |\"TWEET\"                            |\"REPLYCOUNT\"  |\"RETWEETCOUNT\"  |\"LIKECOUNT\"  |\"QUOTECOUNT\"  |\"ONLYDATE\"  |\"ONLYHOUR\"  |\"ONLYMIN\"  |\"PROCESSED_TWEET\"                 |\"SENTIMENT_LABEL\"  |\"SENTIMENT_SCORE\"  |\n",
      "----------------------------------------------------------------------------------------------------------------------------------------------------------------------------------------------------------------------------------------------------------------------------------\n",
      "|1638329623946878976  |2023-03-21 23:59:55+00:00  |lqgds36373  |ChatGPT is another woke machine.   |4             |4               |32           |0             |2023-03-21  |23          |59         |chatgpt is another woke machine.  |negative           |0.8628             |\n",
      "----------------------------------------------------------------------------------------------------------------------------------------------------------------------------------------------------------------------------------------------------------------------------------\n",
      "\n"
     ]
    }
   ],
   "source": [
    "#dataset transformations\n",
    "from snowflake.snowpark.functions import col\n",
    "df_filtered = new_session.table('gpt_tweets').filter(col(\"username\") == 'lqgds36373')\n",
    "df_filtered.show()\n",
    "\n"
   ]
  },
  {
   "cell_type": "code",
   "execution_count": 5,
   "metadata": {},
   "outputs": [
    {
     "name": "stdout",
     "output_type": "stream",
     "text": [
      "------------------------------------------------------------------------------\n",
      "|\"DATE\"                     |\"USERNAME\"  |\"TWEET\"                            |\n",
      "------------------------------------------------------------------------------\n",
      "|2023-03-21 23:59:55+00:00  |lqgds36373  |ChatGPT is another woke machine.   |\n",
      "------------------------------------------------------------------------------\n",
      "\n"
     ]
    }
   ],
   "source": [
    "#select only some columns from table\n",
    "df_few_columns = df_filtered.select(col('date'), col('username'),col('tweet'))\n",
    "df_few_columns.show()"
   ]
  },
  {
   "cell_type": "code",
   "execution_count": 7,
   "metadata": {},
   "outputs": [
    {
     "name": "stdout",
     "output_type": "stream",
     "text": [
      "--------------------------------------------------------------------------\n",
      "|\"USERNAME\"  |\"TWEETS_COUNT\"  |\"SUM_REPLY\"  |\"SUM_RETWEET\"  |\"SUM_LIKE\"  |\n",
      "--------------------------------------------------------------------------\n",
      "|oemar25954  |514             |133          |1              |173         |\n",
      "|evtpb31968  |373             |1            |0              |2           |\n",
      "|jrweq99733  |310             |0            |0              |1           |\n",
      "|cwsea23772  |286             |76           |19             |99          |\n",
      "|shjkn52473  |238             |0            |0              |0           |\n",
      "|gakfn99838  |233             |268          |0              |45          |\n",
      "|vamcz49922  |197             |1            |0              |0           |\n",
      "|hgznd53107  |182             |1            |0              |0           |\n",
      "|pmpew21354  |182             |239          |34             |704         |\n",
      "|zciwy86203  |167             |476          |99             |1308        |\n",
      "--------------------------------------------------------------------------\n",
      "\n"
     ]
    }
   ],
   "source": [
    "#query to find users with at least two tweets and summarize total number of tweets together with tweet's\n",
    "#statistics\n",
    "\n",
    "df_summary = new_session.sql(\"\"\"\n",
    "select username, count(id) tweets_count, sum(replycount) sum_reply, sum(retweetcount) sum_retweet, sum(likecount) sum_like\n",
    "from gpt_tweets\n",
    "group by username\n",
    "having count(id) > 1\n",
    "order by count(id) desc\n",
    "\"\"\")\n",
    "\n",
    "#create a view\n",
    "df_summary.create_or_replace_view('tweet_active_users_summary')\n",
    "\n",
    "#query a view\n",
    "df_view = new_session.table('tweets_active_users_summary')\n",
    "df_view.show()"
   ]
  },
  {
   "cell_type": "code",
   "execution_count": 22,
   "metadata": {},
   "outputs": [
    {
     "name": "stdout",
     "output_type": "stream",
     "text": [
      "----------------------------------------------------------------\n",
      "|\"USERNAME\"  |\"TWEETS_COUNT\"  |\"SUM_REPLIES\"  |\"SUM_RETWEETS\"  |\n",
      "----------------------------------------------------------------\n",
      "|oemar25954  |514             |133            |1               |\n",
      "|evtpb31968  |373             |1              |0               |\n",
      "|jrweq99733  |310             |0              |0               |\n",
      "|cwsea23772  |286             |76             |19              |\n",
      "|shjkn52473  |238             |0              |0               |\n",
      "|gakfn99838  |233             |268            |0               |\n",
      "|vamcz49922  |197             |1              |0               |\n",
      "|pmpew21354  |182             |239            |34              |\n",
      "|hgznd53107  |182             |1              |0               |\n",
      "|zciwy86203  |167             |476            |99              |\n",
      "----------------------------------------------------------------\n",
      "\n",
      "----------------------------------------------------------------\n",
      "|\"USERNAME\"  |\"TWEETS_COUNT\"  |\"SUM_REPLIES\"  |\"SUM_RETWEETS\"  |\n",
      "----------------------------------------------------------------\n",
      "|oemar25954  |514             |133            |1               |\n",
      "|evtpb31968  |373             |1              |0               |\n",
      "|jrweq99733  |310             |0              |0               |\n",
      "|cwsea23772  |286             |76             |19              |\n",
      "|shjkn52473  |238             |0              |0               |\n",
      "|gakfn99838  |233             |268            |0               |\n",
      "|vamcz49922  |197             |1              |0               |\n",
      "|hgznd53107  |182             |1              |0               |\n",
      "|pmpew21354  |182             |239            |34              |\n",
      "|zciwy86203  |167             |476            |99              |\n",
      "----------------------------------------------------------------\n",
      "\n"
     ]
    }
   ],
   "source": [
    "#same output by using data frame functions\n",
    "from snowflake.snowpark.functions import col, count, avg, date_trunc, round, sum\n",
    "\n",
    "df_summary2 = df_tweets.group_by('username')\\\n",
    "                        .agg(count('id').alias('tweets_count'), \\\n",
    "                             sum('replycount').alias('sum_replies'), \\\n",
    "                             sum('retweetcount').alias('sum_retweets')) \\\n",
    "                        .select('username', 'tweets_count', 'sum_replies', 'sum_retweets') \\\n",
    "                        .sort(col('tweets_count').desc())\\\n",
    "                        .filter(col('tweets_count')>1)\n",
    "\n",
    "df_summary2.show()\n",
    "\n",
    "#create a view\n",
    "df_summary2.create_or_replace_view('tweets_active_users_summary')\n",
    "\n",
    "#query a view\n",
    "df_view = new_session.table('tweets_active_users_summary')\n",
    "df_view.show()\n"
   ]
  },
  {
   "cell_type": "code",
   "execution_count": 42,
   "metadata": {},
   "outputs": [
    {
     "name": "stdout",
     "output_type": "stream",
     "text": [
      "-------------------------------\n",
      "|\"MIN_LENGTH\"  |\"MAX_LENGTH\"  |\n",
      "-------------------------------\n",
      "|5             |332           |\n",
      "-------------------------------\n",
      "\n"
     ]
    }
   ],
   "source": [
    "#try to find how long is the shortest and longest tweets\n"
   ]
  },
  {
   "cell_type": "code",
   "execution_count": null,
   "metadata": {},
   "outputs": [],
   "source": []
  },
  {
   "cell_type": "code",
   "execution_count": null,
   "metadata": {},
   "outputs": [],
   "source": [
    "#close the session\n",
    "new_session.close()"
   ]
  }
 ],
 "metadata": {
  "kernelspec": {
   "display_name": "Python 3.8.15 ('py38_env': conda)",
   "language": "python",
   "name": "python3"
  },
  "language_info": {
   "codemirror_mode": {
    "name": "ipython",
    "version": 3
   },
   "file_extension": ".py",
   "mimetype": "text/x-python",
   "name": "python",
   "nbconvert_exporter": "python",
   "pygments_lexer": "ipython3",
   "version": "3.8.15"
  },
  "orig_nbformat": 4,
  "vscode": {
   "interpreter": {
    "hash": "213b9ca92e4f1add5ae23bba1bfb60961b5a96f926a63692a477c0993f17afee"
   }
  }
 },
 "nbformat": 4,
 "nbformat_minor": 2
}
