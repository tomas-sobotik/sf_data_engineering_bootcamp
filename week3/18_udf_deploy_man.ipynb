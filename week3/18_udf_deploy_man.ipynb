{
 "cells": [
  {
   "cell_type": "code",
   "execution_count": 1,
   "metadata": {},
   "outputs": [],
   "source": [
    "#Step 1: Define the function for the UDF\n",
    "\n",
    "def double(input_value: int):\n",
    "  return input_value*2"
   ]
  },
  {
   "cell_type": "code",
   "execution_count": 2,
   "metadata": {},
   "outputs": [],
   "source": [
    "#Step 2: we need to import data type for returned value\n",
    "from snowflake.snowpark.types import IntegerType\n"
   ]
  },
  {
   "cell_type": "code",
   "execution_count": 4,
   "metadata": {},
   "outputs": [
    {
     "data": {
      "text/plain": [
       "<snowflake.snowpark.udf.UserDefinedFunction at 0x7fdd97dcb8e0>"
      ]
     },
     "execution_count": 4,
     "metadata": {},
     "output_type": "execute_result"
    }
   ],
   "source": [
    "#Step 3:  Register UDF in Snowflake and Upload UDF to Snowflake\n",
    "#connection to Snowflake account\n",
    "from snowflake.snowpark import Session\n",
    "\n",
    "connection_parameters = {\n",
    "    \"account\": \"<your account>\",\n",
    "    \"user\": \"<your username>\",\n",
    "    \"password\": \"<your password>\",\n",
    "   \"role\": \"SYSADMIN\",  # optional\n",
    "   \"warehouse\": \"COMPUTE_WH\",  # optional\n",
    "    \"database\": \"DATA_ENGINEERING\",  # optional\n",
    "    \"schema\": \"PUBLIC\",  # optional\n",
    "} \n",
    "\n",
    "snowpark_session = Session.builder.configs(connection_parameters).create() \n",
    "\n",
    "snowpark_session.udf.register(\n",
    "    func = double\n",
    "  , return_type = IntegerType()\n",
    "  , input_types = [IntegerType()]\n",
    "  , is_permanent = True\n",
    "  , name = 'SNOWPARK_DOUBLE'\n",
    "  , replace = True\n",
    "  , stage_location = '@UDF_STAGE'\n",
    ")"
   ]
  },
  {
   "cell_type": "code",
   "execution_count": 5,
   "metadata": {},
   "outputs": [
    {
     "name": "stdout",
     "output_type": "stream",
     "text": [
      "------------------------\n",
      "|\"SNOWPARK_DOUBLE(2)\"  |\n",
      "------------------------\n",
      "|4                     |\n",
      "------------------------\n",
      "\n"
     ]
    }
   ],
   "source": [
    "#Step 4: Test the UDF by calling \n",
    "snowpark_session.sql('SELECT SNOWPARK_DOUBLE(2)').show()"
   ]
  }
 ],
 "metadata": {
  "kernelspec": {
   "display_name": "py38_env",
   "language": "python",
   "name": "python3"
  },
  "language_info": {
   "codemirror_mode": {
    "name": "ipython",
    "version": 3
   },
   "file_extension": ".py",
   "mimetype": "text/x-python",
   "name": "python",
   "nbconvert_exporter": "python",
   "pygments_lexer": "ipython3",
   "version": "3.8.15"
  },
  "orig_nbformat": 4
 },
 "nbformat": 4,
 "nbformat_minor": 2
}
